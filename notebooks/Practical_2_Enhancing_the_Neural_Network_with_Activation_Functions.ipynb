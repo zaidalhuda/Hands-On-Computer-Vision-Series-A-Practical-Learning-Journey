{
  "cells": [
    {
      "cell_type": "markdown",
      "id": "235d5c4c",
      "metadata": {
        "id": "235d5c4c"
      },
      "source": [
        "# 🌻 Practical 2: Flower Classification with Activation Functions\n",
        "This is **Practical 2** of the **Hands-On Computer Vision Series: A Practical Learning Journey**.\n",
        "\n",
        "In this notebook, we enhance our neural network model by adding **activation functions**, specifically the **ReLU** activation function. This allows the model to learn non-linear patterns and improves its classification capability.\n",
        "\n",
        "We also explain **loss functions**, **learning rate**, and important **hyperparameters** you can tune."
      ]
    },
    {
      "cell_type": "code",
      "execution_count": 1,
      "id": "6ca95e92",
      "metadata": {
        "id": "6ca95e92"
      },
      "outputs": [],
      "source": [
        "# Import required libraries\n",
        "import tensorflow as tf\n",
        "import matplotlib.pyplot as plt\n",
        "import numpy as np"
      ]
    },
    {
      "cell_type": "code",
      "execution_count": 2,
      "id": "37f527a1",
      "metadata": {
        "id": "37f527a1"
      },
      "outputs": [],
      "source": [
        "# Define image size and class names\n",
        "IMG_HEIGHT = 224\n",
        "IMG_WIDTH = 224\n",
        "IMG_CHANNELS = 3\n",
        "CLASS_NAMES = [\"daisy\", \"dandelion\", \"roses\", \"sunflowers\", \"tulips\"]"
      ]
    },
    {
      "cell_type": "markdown",
      "id": "f2c35dde",
      "metadata": {
        "id": "f2c35dde"
      },
      "source": [
        "## ☁️ Using Google Cloud-hosted Flower Dataset\n",
        "This notebook uses flower images and labels stored in **CSV format** on Google Cloud:\n",
        "\n",
        "- `train_set.csv` for training\n",
        "- `eval_set.csv` for evaluation\n",
        "\n",
        "If you are running locally:\n",
        "- Download the dataset and CSVs\n",
        "- Replace the paths with your local file paths\n",
        "- Ensure image paths in the CSV match your local folder structure"
      ]
    },
    {
      "cell_type": "code",
      "execution_count": 3,
      "id": "8f3ca505",
      "metadata": {
        "id": "8f3ca505"
      },
      "outputs": [],
      "source": [
        "# Load dataset from CSV and parse image-label pairs\n",
        "def read_and_decode(filename, resize_dims):\n",
        "    img_bytes = tf.io.read_file(filename)\n",
        "    img = tf.image.decode_jpeg(img_bytes, channels=IMG_CHANNELS)\n",
        "    img = tf.image.convert_image_dtype(img, tf.float32)\n",
        "    img = tf.image.resize(img, resize_dims)\n",
        "    return img\n",
        "\n",
        "def parse_csvline(csv_line):\n",
        "    record_default = [\"\", \"\"]\n",
        "    filename, label_string = tf.io.decode_csv(csv_line, record_default)\n",
        "    img = read_and_decode(filename, [IMG_HEIGHT, IMG_WIDTH])\n",
        "    label = tf.argmax(tf.math.equal(CLASS_NAMES, label_string))\n",
        "    return img, label\n"
      ]
    },
    {
      "cell_type": "code",
      "execution_count": 4,
      "id": "c1de5ae9",
      "metadata": {
        "id": "c1de5ae9"
      },
      "outputs": [],
      "source": [
        "# You can change the batch size here to 16, 32, 64, etc.\n",
        "# Load training and evaluation datasets from Google Cloud\n",
        "train_dataset = (\n",
        "    tf.data.TextLineDataset(\"gs://cloud-ml-data/img/flower_photos/train_set.csv\")\n",
        "    .map(parse_csvline, num_parallel_calls=tf.data.AUTOTUNE)\n",
        "    .batch(16)\n",
        "    .prefetch(tf.data.AUTOTUNE)\n",
        ")\n",
        "\n",
        "eval_dataset = (\n",
        "    tf.data.TextLineDataset(\"gs://cloud-ml-data/img/flower_photos/eval_set.csv\")\n",
        "    .map(parse_csvline, num_parallel_calls=tf.data.AUTOTUNE)\n",
        "    .batch(16)\n",
        "    .prefetch(tf.data.AUTOTUNE)\n",
        ")"
      ]
    },
    {
      "cell_type": "markdown",
      "id": "68758ac5",
      "metadata": {
        "id": "68758ac5"
      },
      "source": [
        "## 🔧 What is an Activation Function?\n",
        "Activation functions are essential in neural networks because they introduce **non-linearity**. Without them, a model made of multiple layers would behave just like a single-layer linear model.\n",
        "\n",
        "**Why we need them:**\n",
        "- They allow the network to **learn complex patterns** in the data\n",
        "- They help us solve problems that are **not linearly separable**\n",
        "- They add depth to the network’s decision-making ability\n",
        "\n",
        "### 🚀 Common Activation Functions:\n",
        "- 🔸 **ReLU (Rectified Linear Unit):**\n",
        "  - Formula: $f(x) = \\max(0, x)$\n",
        "  - Most widely used due to its simplicity and efficiency\n",
        "  - Helps avoid vanishing gradients\n",
        "\n",
        "- 🔸 **Sigmoid:**\n",
        "  - Formula: $f(x) = \\frac{1}{1 + e^{-x}}$\n",
        "  - Squashes values into the range [0, 1]\n",
        "  - Commonly used in binary classification (output layer)\n",
        "\n",
        "- 🔸 **Tanh:**\n",
        "  - Formula: $f(x) = \\frac{e^x - e^{-x}}{e^x + e^{-x}}$\n",
        "  - Range: [-1, 1], centered at 0\n",
        "  - Can work better than sigmoid for hidden layers\n",
        "\n",
        "- 🔸 **Softmax:**\n",
        "  - Used in the output layer for **multi-class classification**\n",
        "  - Converts raw scores into probabilities that sum to 1\n",
        "\n",
        "➡️ In this notebook, we use **ReLU** for hidden layers and **Softmax** in the output layer."
      ]
    },
    {
      "cell_type": "code",
      "execution_count": 5,
      "id": "298fb511",
      "metadata": {
        "colab": {
          "base_uri": "https://localhost:8080/",
          "height": 327
        },
        "id": "298fb511",
        "outputId": "9237023c-117a-4b29-e309-9b6949f11028"
      },
      "outputs": [
        {
          "name": "stderr",
          "output_type": "stream",
          "text": [
            "/usr/local/lib/python3.11/dist-packages/keras/src/layers/reshaping/flatten.py:37: UserWarning: Do not pass an `input_shape`/`input_dim` argument to a layer. When using Sequential models, prefer using an `Input(shape)` object as the first layer in the model instead.\n",
            "  super().__init__(**kwargs)\n"
          ]
        },
        {
          "data": {
            "text/html": [
              "<pre style=\"white-space:pre;overflow-x:auto;line-height:normal;font-family:Menlo,'DejaVu Sans Mono',consolas,'Courier New',monospace\"><span style=\"font-weight: bold\">Model: \"sequential\"</span>\n",
              "</pre>\n"
            ],
            "text/plain": [
              "\u001b[1mModel: \"sequential\"\u001b[0m\n"
            ]
          },
          "metadata": {},
          "output_type": "display_data"
        },
        {
          "data": {
            "text/html": [
              "<pre style=\"white-space:pre;overflow-x:auto;line-height:normal;font-family:Menlo,'DejaVu Sans Mono',consolas,'Courier New',monospace\">┏━━━━━━━━━━━━━━━━━━━━━━━━━━━━━━━━━┳━━━━━━━━━━━━━━━━━━━━━━━━┳━━━━━━━━━━━━━━━┓\n",
              "┃<span style=\"font-weight: bold\"> Layer (type)                    </span>┃<span style=\"font-weight: bold\"> Output Shape           </span>┃<span style=\"font-weight: bold\">       Param # </span>┃\n",
              "┡━━━━━━━━━━━━━━━━━━━━━━━━━━━━━━━━━╇━━━━━━━━━━━━━━━━━━━━━━━━╇━━━━━━━━━━━━━━━┩\n",
              "│ flatten (<span style=\"color: #0087ff; text-decoration-color: #0087ff\">Flatten</span>)               │ (<span style=\"color: #00d7ff; text-decoration-color: #00d7ff\">None</span>, <span style=\"color: #00af00; text-decoration-color: #00af00\">150528</span>)         │             <span style=\"color: #00af00; text-decoration-color: #00af00\">0</span> │\n",
              "├─────────────────────────────────┼────────────────────────┼───────────────┤\n",
              "│ dense (<span style=\"color: #0087ff; text-decoration-color: #0087ff\">Dense</span>)                   │ (<span style=\"color: #00d7ff; text-decoration-color: #00d7ff\">None</span>, <span style=\"color: #00af00; text-decoration-color: #00af00\">128</span>)            │    <span style=\"color: #00af00; text-decoration-color: #00af00\">19,267,712</span> │\n",
              "├─────────────────────────────────┼────────────────────────┼───────────────┤\n",
              "│ dense_1 (<span style=\"color: #0087ff; text-decoration-color: #0087ff\">Dense</span>)                 │ (<span style=\"color: #00d7ff; text-decoration-color: #00d7ff\">None</span>, <span style=\"color: #00af00; text-decoration-color: #00af00\">128</span>)            │        <span style=\"color: #00af00; text-decoration-color: #00af00\">16,512</span> │\n",
              "├─────────────────────────────────┼────────────────────────┼───────────────┤\n",
              "│ dense_2 (<span style=\"color: #0087ff; text-decoration-color: #0087ff\">Dense</span>)                 │ (<span style=\"color: #00d7ff; text-decoration-color: #00d7ff\">None</span>, <span style=\"color: #00af00; text-decoration-color: #00af00\">5</span>)              │           <span style=\"color: #00af00; text-decoration-color: #00af00\">645</span> │\n",
              "└─────────────────────────────────┴────────────────────────┴───────────────┘\n",
              "</pre>\n"
            ],
            "text/plain": [
              "┏━━━━━━━━━━━━━━━━━━━━━━━━━━━━━━━━━┳━━━━━━━━━━━━━━━━━━━━━━━━┳━━━━━━━━━━━━━━━┓\n",
              "┃\u001b[1m \u001b[0m\u001b[1mLayer (type)                   \u001b[0m\u001b[1m \u001b[0m┃\u001b[1m \u001b[0m\u001b[1mOutput Shape          \u001b[0m\u001b[1m \u001b[0m┃\u001b[1m \u001b[0m\u001b[1m      Param #\u001b[0m\u001b[1m \u001b[0m┃\n",
              "┡━━━━━━━━━━━━━━━━━━━━━━━━━━━━━━━━━╇━━━━━━━━━━━━━━━━━━━━━━━━╇━━━━━━━━━━━━━━━┩\n",
              "│ flatten (\u001b[38;5;33mFlatten\u001b[0m)               │ (\u001b[38;5;45mNone\u001b[0m, \u001b[38;5;34m150528\u001b[0m)         │             \u001b[38;5;34m0\u001b[0m │\n",
              "├─────────────────────────────────┼────────────────────────┼───────────────┤\n",
              "│ dense (\u001b[38;5;33mDense\u001b[0m)                   │ (\u001b[38;5;45mNone\u001b[0m, \u001b[38;5;34m128\u001b[0m)            │    \u001b[38;5;34m19,267,712\u001b[0m │\n",
              "├─────────────────────────────────┼────────────────────────┼───────────────┤\n",
              "│ dense_1 (\u001b[38;5;33mDense\u001b[0m)                 │ (\u001b[38;5;45mNone\u001b[0m, \u001b[38;5;34m128\u001b[0m)            │        \u001b[38;5;34m16,512\u001b[0m │\n",
              "├─────────────────────────────────┼────────────────────────┼───────────────┤\n",
              "│ dense_2 (\u001b[38;5;33mDense\u001b[0m)                 │ (\u001b[38;5;45mNone\u001b[0m, \u001b[38;5;34m5\u001b[0m)              │           \u001b[38;5;34m645\u001b[0m │\n",
              "└─────────────────────────────────┴────────────────────────┴───────────────┘\n"
            ]
          },
          "metadata": {},
          "output_type": "display_data"
        },
        {
          "data": {
            "text/html": [
              "<pre style=\"white-space:pre;overflow-x:auto;line-height:normal;font-family:Menlo,'DejaVu Sans Mono',consolas,'Courier New',monospace\"><span style=\"font-weight: bold\"> Total params: </span><span style=\"color: #00af00; text-decoration-color: #00af00\">19,284,869</span> (73.57 MB)\n",
              "</pre>\n"
            ],
            "text/plain": [
              "\u001b[1m Total params: \u001b[0m\u001b[38;5;34m19,284,869\u001b[0m (73.57 MB)\n"
            ]
          },
          "metadata": {},
          "output_type": "display_data"
        },
        {
          "data": {
            "text/html": [
              "<pre style=\"white-space:pre;overflow-x:auto;line-height:normal;font-family:Menlo,'DejaVu Sans Mono',consolas,'Courier New',monospace\"><span style=\"font-weight: bold\"> Trainable params: </span><span style=\"color: #00af00; text-decoration-color: #00af00\">19,284,869</span> (73.57 MB)\n",
              "</pre>\n"
            ],
            "text/plain": [
              "\u001b[1m Trainable params: \u001b[0m\u001b[38;5;34m19,284,869\u001b[0m (73.57 MB)\n"
            ]
          },
          "metadata": {},
          "output_type": "display_data"
        },
        {
          "data": {
            "text/html": [
              "<pre style=\"white-space:pre;overflow-x:auto;line-height:normal;font-family:Menlo,'DejaVu Sans Mono',consolas,'Courier New',monospace\"><span style=\"font-weight: bold\"> Non-trainable params: </span><span style=\"color: #00af00; text-decoration-color: #00af00\">0</span> (0.00 B)\n",
              "</pre>\n"
            ],
            "text/plain": [
              "\u001b[1m Non-trainable params: \u001b[0m\u001b[38;5;34m0\u001b[0m (0.00 B)\n"
            ]
          },
          "metadata": {},
          "output_type": "display_data"
        }
      ],
      "source": [
        "# Feel free to adjust the number of hidden units (e.g., 64, 256)\n",
        "# Build the model with activation functions\n",
        "model = tf.keras.Sequential([\n",
        "    tf.keras.layers.Flatten(input_shape=(IMG_HEIGHT, IMG_WIDTH, 3)),\n",
        "    tf.keras.layers.Dense(128, activation='relu'),  # Hidden layer 1\n",
        "    tf.keras.layers.Dense(128, activation='relu'),  # Hidden layer 2\n",
        "    tf.keras.layers.Dense(5, activation='softmax')  # Output layer\n",
        "])\n",
        "model.summary()"
      ]
    },
    {
      "cell_type": "markdown",
      "id": "529c8ee4",
      "metadata": {
        "id": "529c8ee4"
      },
      "source": [
        "## 📊 Understanding Parameters in a Neural Network\n",
        "**Parameters** in a neural network include **weights** and **biases** — the values the model learns during training.\n",
        "\n",
        "**Each Dense (fully connected) layer has:**\n",
        "- 🔹 **Weights**: Connect each input to each output neuron\n",
        "- 🔹 **Biases**: One per output neuron\n",
        "\n",
        "### 🧮 Formula to Calculate Trainable Parameters:\n",
        "`Total Parameters = (input_features × output_units) + output_units`\n",
        "\n",
        "---\n",
        "### 📐 Parameters in This Model:\n",
        "- Input size = `224 × 224 × 3 = 150,528`\n",
        "- Hidden Layer 1 = 128 units\n",
        "- Hidden Layer 2 = 128 units\n",
        "- Output Layer = 5 units\n",
        "\n",
        "**Layer 1 (Input → Hidden 1)**:\n",
        "- Weights: `150,528 × 128 = 19,267,584`\n",
        "- Biases: `128`\n",
        "- Total: `19,267,712`\n",
        "\n",
        "**Layer 2 (Hidden 1 → Hidden 2)**:\n",
        "- Weights: `128 × 128 = 16,384`\n",
        "- Biases: `128`\n",
        "- Total: `16,512`\n",
        "\n",
        "**Layer 3 (Hidden 2 → Output)**:\n",
        "- Weights: `128 × 5 = 640`\n",
        "- Biases: `5`\n",
        "- Total: `645`\n",
        "\n",
        "**Total Parameters = 19,267,712 + 16,512 + 645 = 19,284,869**\n",
        "\n",
        "✅ These are all **trainable** parameters. You can confirm them using the `model.summary()` output.\n",
        "\n",
        "> 📌 More parameters mean more capacity to learn, but also more risk of **overfitting** — which we'll address in the next practical!"
      ]
    },
    {
      "cell_type": "markdown",
      "id": "6648dc06",
      "metadata": {
        "id": "6648dc06"
      },
      "source": [
        "## 📉 What is a Loss Function?\n",
        "A **loss function** tells the model how far off its predictions are from the actual labels. It is a critical part of training, as it drives how the model learns by adjusting weights to minimize this loss.\n",
        "\n",
        "### 🧪 How it works:\n",
        "1. The model makes a prediction\n",
        "2. The loss function compares this prediction to the true label\n",
        "3. It computes an error (loss)\n",
        "4. This loss is used to update the model’s weights using backpropagation\n",
        "\n",
        "### 🔍 Types of Loss Functions:\n",
        "- 🔹 **SparseCategoricalCrossentropy**:\n",
        "  - Used when labels are integers (not one-hot encoded)\n",
        "  - Perfect for multi-class classification (like our flower dataset)\n",
        "\n",
        "- 🔹 **CategoricalCrossentropy**:\n",
        "  - Use this when your labels are **one-hot encoded** (e.g., [0, 0, 1, 0, 0])\n",
        "\n",
        "- 🔹 **BinaryCrossentropy**:\n",
        "  - Used for binary classification problems (e.g., cat vs. dog)\n",
        "  - Often paired with a sigmoid activation\n",
        "\n",
        "- 🔹 **Mean Squared Error (MSE)**:\n",
        "  - Common in regression tasks\n",
        "\n",
        "➡️ In this practical, we use **SparseCategoricalCrossentropy** because our dataset contains multiple classes and integer labels.\n",
        "The goal during training is to minimize this loss as much as possible."
      ]
    },
    {
      "cell_type": "markdown",
      "id": "8bbe3b67",
      "metadata": {
        "id": "8bbe3b67"
      },
      "source": [
        "## 🛠️ Understanding Hyperparameters\n",
        "**Hyperparameters** are external configuration values set before training. They’re not learned from the data, but they directly influence how well your model learns.\n",
        "\n",
        "### 🔑 Common Hyperparameters:\n",
        "- **Learning Rate**: Controls how big each weight update step is.\n",
        "  - Too high → training may diverge\n",
        "  - Too low → training is slow or stuck\n",
        "- **Batch Size**: Number of samples processed before weights are updated.\n",
        "  - Smaller batch size → noisier but more generalized updates\n",
        "  - Larger batch size → faster training but may overfit\n",
        "- **Number of Epochs**: How many times the model sees the entire dataset.\n",
        "  - More epochs → potentially better training (until overfitting begins)\n",
        "- **Number of Hidden Units**: Controls the capacity of the network to learn patterns.\n",
        "  - Too few → underfitting\n",
        "  - Too many → overfitting if regularization isn’t applied\n",
        "- **Image Size**: Affects the resolution of input data and model complexity\n",
        "\n",
        "### 🧪 Try This:\n",
        "- Change `learning_rate=0.001` to `0.0001` or `0.01`\n",
        "- Try different `batch_size` like `16`, `32`, `64`\n",
        "- Increase or decrease the number of neurons in hidden layers\n",
        "- Add more epochs to see performance trends over time\n",
        "\n",
        "🔁 **By experimenting with these values, you’ll gain a deeper intuition for how neural networks learn!**"
      ]
    },
    {
      "cell_type": "code",
      "execution_count": 6,
      "id": "8e557a59",
      "metadata": {
        "id": "8e557a59"
      },
      "outputs": [],
      "source": [
        "# You can experiment with different learning rates here\n",
        "# Try: 0.0001, 0.001 (default), 0.01\n",
        "# Compile the model\n",
        "model.compile(\n",
        "    optimizer=tf.keras.optimizers.Adam(learning_rate=0.001),\n",
        "    loss=tf.keras.losses.SparseCategoricalCrossentropy(from_logits=False),\n",
        "    metrics=['accuracy']\n",
        ")"
      ]
    },
    {
      "cell_type": "code",
      "execution_count": 7,
      "id": "9f195cd8",
      "metadata": {
        "colab": {
          "base_uri": "https://localhost:8080/"
        },
        "id": "9f195cd8",
        "outputId": "3318ea2b-9a28-40cd-9025-92d6bfcac316"
      },
      "outputs": [
        {
          "name": "stdout",
          "output_type": "stream",
          "text": [
            "Epoch 1/10\n",
            "    207/Unknown \u001b[1m99s\u001b[0m 462ms/step - accuracy: 0.2863 - loss: 10.9058"
          ]
        },
        {
          "name": "stderr",
          "output_type": "stream",
          "text": [
            "/usr/local/lib/python3.11/dist-packages/keras/src/trainers/epoch_iterator.py:151: UserWarning: Your input ran out of data; interrupting training. Make sure that your dataset or generator can generate at least `steps_per_epoch * epochs` batches. You may need to use the `.repeat()` function when building your dataset.\n",
            "  self._interrupted_warning()\n"
          ]
        },
        {
          "name": "stdout",
          "output_type": "stream",
          "text": [
            "\b\b\b\b\b\b\b\b\b\b\b\b\b\b\b\b\b\b\b\b\b\b\b\b\b\b\b\b\b\b\b\b\b\b\b\b\b\b\b\b\b\b\b\b\b\b\b\b\b\b\b\b\b\b\b\b\b\b\b\b\b\b\b\b\b\r\u001b[1m207/207\u001b[0m \u001b[32m━━━━━━━━━━━━━━━━━━━━\u001b[0m\u001b[37m\u001b[0m \u001b[1m109s\u001b[0m 513ms/step - accuracy: 0.2865 - loss: 10.8790 - val_accuracy: 0.4216 - val_loss: 1.9159\n",
            "Epoch 2/10\n",
            "\u001b[1m207/207\u001b[0m \u001b[32m━━━━━━━━━━━━━━━━━━━━\u001b[0m\u001b[37m\u001b[0m \u001b[1m141s\u001b[0m 519ms/step - accuracy: 0.4392 - loss: 1.6312 - val_accuracy: 0.4514 - val_loss: 1.3856\n",
            "Epoch 3/10\n",
            "\u001b[1m207/207\u001b[0m \u001b[32m━━━━━━━━━━━━━━━━━━━━\u001b[0m\u001b[37m\u001b[0m \u001b[1m142s\u001b[0m 521ms/step - accuracy: 0.4678 - loss: 1.3589 - val_accuracy: 0.4351 - val_loss: 1.7015\n",
            "Epoch 4/10\n",
            "\u001b[1m207/207\u001b[0m \u001b[32m━━━━━━━━━━━━━━━━━━━━\u001b[0m\u001b[37m\u001b[0m \u001b[1m123s\u001b[0m 430ms/step - accuracy: 0.4318 - loss: 1.6285 - val_accuracy: 0.4243 - val_loss: 1.7112\n",
            "Epoch 5/10\n",
            "\u001b[1m207/207\u001b[0m \u001b[32m━━━━━━━━━━━━━━━━━━━━\u001b[0m\u001b[37m\u001b[0m \u001b[1m89s\u001b[0m 430ms/step - accuracy: 0.4859 - loss: 1.3891 - val_accuracy: 0.4432 - val_loss: 1.5491\n",
            "Epoch 6/10\n",
            "\u001b[1m207/207\u001b[0m \u001b[32m━━━━━━━━━━━━━━━━━━━━\u001b[0m\u001b[37m\u001b[0m \u001b[1m91s\u001b[0m 439ms/step - accuracy: 0.4737 - loss: 1.3125 - val_accuracy: 0.2946 - val_loss: 1.9720\n",
            "Epoch 7/10\n",
            "\u001b[1m207/207\u001b[0m \u001b[32m━━━━━━━━━━━━━━━━━━━━\u001b[0m\u001b[37m\u001b[0m \u001b[1m144s\u001b[0m 696ms/step - accuracy: 0.4340 - loss: 1.4595 - val_accuracy: 0.4135 - val_loss: 1.4694\n",
            "Epoch 8/10\n",
            "\u001b[1m207/207\u001b[0m \u001b[32m━━━━━━━━━━━━━━━━━━━━\u001b[0m\u001b[37m\u001b[0m \u001b[1m163s\u001b[0m 506ms/step - accuracy: 0.4275 - loss: 1.3570 - val_accuracy: 0.4351 - val_loss: 1.4422\n",
            "Epoch 9/10\n",
            "\u001b[1m207/207\u001b[0m \u001b[32m━━━━━━━━━━━━━━━━━━━━\u001b[0m\u001b[37m\u001b[0m \u001b[1m140s\u001b[0m 498ms/step - accuracy: 0.4609 - loss: 1.2959 - val_accuracy: 0.4405 - val_loss: 1.3061\n",
            "Epoch 10/10\n",
            "\u001b[1m207/207\u001b[0m \u001b[32m━━━━━━━━━━━━━━━━━━━━\u001b[0m\u001b[37m\u001b[0m \u001b[1m129s\u001b[0m 435ms/step - accuracy: 0.4560 - loss: 1.2387 - val_accuracy: 0.2405 - val_loss: 1.5763\n"
          ]
        }
      ],
      "source": [
        "# Try increasing the number of epochs to see if accuracy improves or overfits\n",
        "# Train the model\n",
        "history = model.fit(\n",
        "    train_dataset,\n",
        "    validation_data=eval_dataset,\n",
        "    epochs=10\n",
        ")"
      ]
    },
    {
      "cell_type": "code",
      "execution_count": 8,
      "id": "c6a80d9a",
      "metadata": {
        "colab": {
          "base_uri": "https://localhost:8080/",
          "height": 886
        },
        "id": "c6a80d9a",
        "outputId": "c32663c7-4a0f-46a8-c82d-d9629d4303e4"
      },
      "outputs": [
        {
          "data": {
            "image/png": "[encoded data removed]",
            "text/plain": [
              "<Figure size 640x480 with 1 Axes>"
            ]
          },
          "metadata": {},
          "output_type": "display_data"
        },
        {
          "data": {
            "image/png": "[encoded data removed]",
            "text/plain": [
              "<Figure size 640x480 with 1 Axes>"
            ]
          },
          "metadata": {},
          "output_type": "display_data"
        }
      ],
      "source": [
        "# Plot accuracy and loss curves\n",
        "import matplotlib.pyplot as plt\n",
        "plt.plot(history.history[\"loss\"], label=\"Training Loss\")\n",
        "plt.plot(history.history[\"val_loss\"], label=\"Validation Loss\")\n",
        "plt.xlabel(\"Epoch\")\n",
        "plt.ylabel(\"Loss\")\n",
        "plt.legend()\n",
        "plt.show()\n",
        "\n",
        "plt.plot(history.history[\"accuracy\"], label=\"Training Accuracy\")\n",
        "plt.plot(history.history[\"val_accuracy\"], label=\"Validation Accuracy\")\n",
        "plt.xlabel(\"Epoch\")\n",
        "plt.ylabel(\"Accuracy\")\n",
        "plt.legend()\n",
        "plt.show()"
      ]
    },
    {
      "cell_type": "markdown",
      "id": "3c216b7d",
      "metadata": {},
      "source": [
        "## 📈 Model Performance Analysis\n",
        "The charts above illustrate **training vs. validation loss** and **accuracy** over 10 epochs.\n",
        "\n",
        "### 📊 Loss Trends:\n",
        "- The **training loss** drops sharply within the first few epochs, showing fast convergence.\n",
        "- **Validation loss** also remains stable with minimal fluctuation, suggesting improved generalization.\n",
        "\n",
        "### ✅ Accuracy Trends:\n",
        "- **Training accuracy** improves steadily and reaches nearly 50%.\n",
        "- **Validation accuracy** fluctuates slightly but follows the training trend more closely than in Practical 1.\n",
        "\n",
        "### 🔄 Compared to Practical 1:\n",
        "- In Practical 1, the model overfit the training data because it had **no activation functions**, limiting its learning capacity.\n",
        "- In this practical, adding **ReLU and Softmax activations** introduced non-linearity, allowing the model to learn richer representations.\n",
        "- This led to **lower loss and better generalization**.\n",
        "\n",
        "📌 **Conclusion**: Activation functions significantly enhance model flexibility and real-world performance."
      ]
    },
    {
      "cell_type": "markdown",
      "id": "c762549f",
      "metadata": {
        "id": "c762549f"
      },
      "source": [
        "## ✅ Summary: What We Learned\n",
        "In this practical, you unlocked the power of **non-linear learning** by using activation functions!\n",
        "\n",
        "- 🧠 **ReLU** enabled the model to learn complex, non-linear patterns from image data.\n",
        "- 📈 You saw how to build a deeper model with **two hidden layers**.\n",
        "- 📉 We explained **loss functions** and how models learn by minimizing error.\n",
        "- 🔧 We introduced **hyperparameters** like learning rate and hidden units—feel free to tweak them!\n",
        "\n",
        "🎓 By experimenting with different values, you’ll start to see how model behavior changes in real time.\n",
        "\n",
        "👉 **Up next in Practical 3**:\n",
        "We’ll tackle **overfitting** and how to fight it using techniques like **Dropout**, **Regularization**, and even deeper networks to build more robust models.\n",
        "\n",
        "> The journey continues — keep building, keep tweaking, and most of all, keep learning! 🚀"
      ]
    },
    {
      "cell_type": "markdown",
      "id": "04dbaf86",
      "metadata": {},
      "source": [
        "---\n",
        "✍️ This practical was authored and curated by **Dr. Zaid Al-Huda** to empower learners with hands-on experience and real-world model behavior analysis."
      ]
    }
  ],
  "metadata": {
    "accelerator": "GPU",
    "colab": {
      "gpuType": "T4",
      "provenance": []
    },
    "kernelspec": {
      "display_name": "Python 3",
      "name": "python3"
    },
    "language_info": {
      "name": "python"
    }
  },
  "nbformat": 4,
  "nbformat_minor": 5
}
